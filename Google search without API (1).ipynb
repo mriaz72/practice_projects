{
 "cells": [
  {
   "cell_type": "code",
   "execution_count": 0,
   "metadata": {
    "application/vnd.databricks.v1+cell": {
     "cellMetadata": {
      "byteLimit": 2048000,
      "rowLimit": 10000
     },
     "collapsed": true,
     "inputWidgets": {},
     "nuid": "efda01a6-632e-4ae1-9522-b46eae0c4d88",
     "showTitle": false,
     "tableResultSettingsMap": {},
     "title": ""
    }
   },
   "outputs": [
    {
     "output_type": "stream",
     "name": "stdout",
     "output_type": "stream",
     "text": [
      "Collecting googlesearch-python\n  Downloading googlesearch_python-1.3.0-py3-none-any.whl.metadata (3.4 kB)\nCollecting beautifulsoup4>=4.9 (from googlesearch-python)\n  Downloading beautifulsoup4-4.13.3-py3-none-any.whl.metadata (3.8 kB)\nRequirement already satisfied: requests>=2.20 in /databricks/python3/lib/python3.11/site-packages (from googlesearch-python) (2.31.0)\nCollecting soupsieve>1.2 (from beautifulsoup4>=4.9->googlesearch-python)\n  Downloading soupsieve-2.6-py3-none-any.whl.metadata (4.6 kB)\nRequirement already satisfied: typing-extensions>=4.0.0 in /databricks/python3/lib/python3.11/site-packages (from beautifulsoup4>=4.9->googlesearch-python) (4.10.0)\nRequirement already satisfied: charset-normalizer<4,>=2 in /databricks/python3/lib/python3.11/site-packages (from requests>=2.20->googlesearch-python) (2.0.4)\nRequirement already satisfied: idna<4,>=2.5 in /databricks/python3/lib/python3.11/site-packages (from requests>=2.20->googlesearch-python) (3.4)\nRequirement already satisfied: urllib3<3,>=1.21.1 in /databricks/python3/lib/python3.11/site-packages (from requests>=2.20->googlesearch-python) (1.26.16)\nRequirement already satisfied: certifi>=2017.4.17 in /databricks/python3/lib/python3.11/site-packages (from requests>=2.20->googlesearch-python) (2023.7.22)\nDownloading googlesearch_python-1.3.0-py3-none-any.whl (5.6 kB)\nDownloading beautifulsoup4-4.13.3-py3-none-any.whl (186 kB)\nDownloading soupsieve-2.6-py3-none-any.whl (36 kB)\nInstalling collected packages: soupsieve, beautifulsoup4, googlesearch-python\nSuccessfully installed beautifulsoup4-4.13.3 googlesearch-python-1.3.0 soupsieve-2.6\n\u001B[43mNote: you may need to restart the kernel using %restart_python or dbutils.library.restartPython() to use updated packages.\u001B[0m\n"
     ]
    }
   ],
   "source": [
    "!pip install googlesearch-python\n"
   ]
  },
  {
   "cell_type": "code",
   "execution_count": 0,
   "metadata": {
    "application/vnd.databricks.v1+cell": {
     "cellMetadata": {
      "byteLimit": 2048000,
      "rowLimit": 10000
     },
     "inputWidgets": {},
     "nuid": "7b23c0a6-8477-4b45-b895-29b1df68691e",
     "showTitle": false,
     "tableResultSettingsMap": {},
     "title": ""
    }
   },
   "outputs": [
    {
     "output_type": "display_data",
     "data": {
      "text/plain": [
       "Enter your search query:  italian pasta"
      ]
     },
     "metadata": {},
     "output_type": "display_data"
    },
    {
     "output_type": "stream",
     "name": "stdout",
     "output_type": "stream",
     "text": [
      "\nSearch Results:\n1: https://www.bbcgoodfood.com/recipes/collection/italian-pasta-recipes\n2: https://www.delish.com/cooking/g4627/italian-pasta-recipes/\n3: https://www.delallo.com/blog/11-best-pasta-recipes/?srsltid=AfmBOooPH31i0ORNWY_u2o3zzcxc3OSrW9I_OCX94m-i97uvtFx-ogef\n4: https://en.wikipedia.org/wiki/Pasta\n5: https://www.carluccios.com/collections/italian-pasta?srsltid=AfmBOoqv6u98GxXtCJafz0DjKSthCrciod2NgnrZtzhAG8NSWvq9e7Te\n6: https://www.allrecipes.com/italian-pasta-recipes-8420877\n7: https://www.bbcgoodfood.com/recipes/ultimate-spaghetti-carbonara-recipe\n8: https://www.marthastewart.com/1116161/italian-pasta-recipes\n9: https://www.youtube.com/watch?v=oSpSJZO_JBI\n10: https://myitalianflavors.com/pasta-more/how-to-make-fresh-pasta/\n"
     ]
    }
   ],
   "source": [
    "from googlesearch import search\n",
    "\n",
    "def google_search(query, num_results=10):\n",
    "\n",
    "    try:\n",
    "        return list(search(query, num_results=num_results))\n",
    "    except Exception as e:\n",
    "        print(f\"Error: {e}\")\n",
    "        return []\n",
    "\n",
    "\n",
    "intended_search = input(\"Enter your search query: \") \n",
    "results = google_search(intended_search)\n",
    "\n",
    "print(\"\\nSearch Results:\")\n",
    "for idx, result in enumerate(results, 1):\n",
    "    print(f\"{idx}: {result}\")\n"
   ]
  }
 ],
 "metadata": {
  "application/vnd.databricks.v1+notebook": {
   "computePreferences": null,
   "dashboards": [],
   "environmentMetadata": {
    "base_environment": "",
    "environment_version": "2"
   },
   "inputWidgetPreferences": null,
   "language": "python",
   "notebookMetadata": {
    "pythonIndentUnit": 4
   },
   "notebookName": "Google search without API",
   "widgets": {}
  },
  "language_info": {
   "name": "python"
  }
 },
 "nbformat": 4,
 "nbformat_minor": 0
}